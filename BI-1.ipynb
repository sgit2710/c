{
 "cells": [
  {
   "cell_type": "code",
   "execution_count": 1,
   "id": "47377189",
   "metadata": {},
   "outputs": [
    {
     "name": "stdout",
     "output_type": "stream",
     "text": [
      "GC Content: 49.77777777777778 %\n",
      "Motif 'ATG' found at positions: 0\n",
      "Coding regions:\n",
      "Start: 0 End: 27\n"
     ]
    }
   ],
   "source": [
    "# Read the DNA sequence from a file\n",
    "with open(\"dna_sequence-BI.txt\", \"r\") as file:\n",
    "    dna_sequence = file.read().strip()\n",
    "\n",
    "# Calculate GC content\n",
    "gc_content = (dna_sequence.count(\"G\") + dna_sequence.count(\"C\")) / len(dna_sequence) * 100\n",
    "print(\"GC Content:\", gc_content, \"%\")\n",
    "\n",
    "# Find motifs\n",
    "motif_to_find = \"ATG\"\n",
    "motifs_found = [str(i) for i in range(len(dna_sequence)) if dna_sequence.startswith(motif_to_find, i)]\n",
    "print(\"Motif '{}' found at positions: {}\".format(motif_to_find, \",\".join(motifs_found)) if motifs_found else\n",
    "      \"Motif '{}' not found in the sequence.\".format(motif_to_find))\n",
    "\n",
    "# Identify coding regions\n",
    "start_codon = \"ATG\"\n",
    "stop_codons = [\"TAA\", \"TAG\", \"TGA\"]\n",
    "coding_regions = []\n",
    "\n",
    "for i, codon in enumerate(dna_sequence):\n",
    "    if dna_sequence[i:i+3] == start_codon:\n",
    "        for j in range(i+3, len(dna_sequence), 3):\n",
    "            codon = dna_sequence[j:j+3]\n",
    "            if codon in stop_codons:\n",
    "                coding_regions.append((i, j + 3))\n",
    "                break\n",
    "        else:\n",
    "            continue\n",
    "\n",
    "if coding_regions:\n",
    "    print(\"Coding regions:\")\n",
    "    for start, end in coding_regions:\n",
    "        print(\"Start:\", start, \"End:\", end)\n",
    "else:\n",
    "    print(\"No coding regions found in the sequence.\")"
   ]
  }
 ],
 "metadata": {
  "kernelspec": {
   "display_name": "Python 3 (ipykernel)",
   "language": "python",
   "name": "python3"
  },
  "language_info": {
   "codemirror_mode": {
    "name": "ipython",
    "version": 3
   },
   "file_extension": ".py",
   "mimetype": "text/x-python",
   "name": "python",
   "nbconvert_exporter": "python",
   "pygments_lexer": "ipython3",
   "version": "3.12.7"
  }
 },
 "nbformat": 4,
 "nbformat_minor": 5
}
